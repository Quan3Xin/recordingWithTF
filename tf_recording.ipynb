{
 "cells": [
  {
   "cell_type": "code",
   "execution_count": 1,
   "metadata": {},
   "outputs": [],
   "source": [
    "\n",
    "import pandas as pd\n",
    "import numpy as np\n",
    "import matplotlib.pyplot as plt\n",
    "import tensorflow as tf\n",
    "import pathlib\n",
    "import os\n",
    "\n",
    "# In[50]:\n",
    "\n",
    "from tensorflow.keras.layers import Dense, Conv2D, Flatten, Dropout, MaxPooling2D\n",
    "from tensorflow.keras import models\n",
    "from PIL import Image"
   ]
  },
  {
   "cell_type": "code",
   "execution_count": 2,
   "metadata": {},
   "outputs": [
    {
     "name": "stdout",
     "output_type": "stream",
     "text": [
      "/root/quan/fruits-360/Training\n",
      "/root/quan/fruits-360/Test\n"
     ]
    },
    {
     "data": {
      "text/plain": [
       "['Apple Braeburn',\n",
       " 'Apple Crimson Snow',\n",
       " 'Apple Golden 1',\n",
       " 'Apple Golden 2',\n",
       " 'Apple Golden 3',\n",
       " 'Apple Granny Smith',\n",
       " 'Apple Pink Lady',\n",
       " 'Apple Red 1',\n",
       " 'Apple Red 2',\n",
       " 'Apple Red 3',\n",
       " 'Apple Red Delicious',\n",
       " 'Apple Red Yellow 1',\n",
       " 'Apple Red Yellow 2',\n",
       " 'Apricot',\n",
       " 'Avocado',\n",
       " 'Avocado ripe',\n",
       " 'Banana',\n",
       " 'Banana Lady Finger',\n",
       " 'Banana Red',\n",
       " 'Beetroot',\n",
       " 'Blueberry',\n",
       " 'Cactus fruit',\n",
       " 'Cantaloupe 1',\n",
       " 'Cantaloupe 2',\n",
       " 'Carambula',\n",
       " 'Cauliflower',\n",
       " 'Cherry 1',\n",
       " 'Cherry 2',\n",
       " 'Cherry Rainier',\n",
       " 'Cherry Wax Black',\n",
       " 'Cherry Wax Red',\n",
       " 'Cherry Wax Yellow',\n",
       " 'Chestnut',\n",
       " 'Clementine',\n",
       " 'Cocos',\n",
       " 'Dates',\n",
       " 'Eggplant',\n",
       " 'Ginger Root',\n",
       " 'Granadilla',\n",
       " 'Grape Blue',\n",
       " 'Grape Pink',\n",
       " 'Grape White',\n",
       " 'Grape White 2',\n",
       " 'Grape White 3',\n",
       " 'Grape White 4',\n",
       " 'Grapefruit Pink',\n",
       " 'Grapefruit White',\n",
       " 'Guava',\n",
       " 'Hazelnut',\n",
       " 'Huckleberry',\n",
       " 'Kaki',\n",
       " 'Kiwi',\n",
       " 'Kohlrabi',\n",
       " 'Kumquats',\n",
       " 'Lemon',\n",
       " 'Lemon Meyer',\n",
       " 'Limes',\n",
       " 'Lychee',\n",
       " 'Mandarine',\n",
       " 'Mango',\n",
       " 'Mango Red',\n",
       " 'Mangostan',\n",
       " 'Maracuja',\n",
       " 'Melon Piel de Sapo',\n",
       " 'Mulberry',\n",
       " 'Nectarine',\n",
       " 'Nectarine Flat',\n",
       " 'Nut Forest',\n",
       " 'Nut Pecan',\n",
       " 'Onion Red',\n",
       " 'Onion Red Peeled',\n",
       " 'Onion White',\n",
       " 'Orange',\n",
       " 'Papaya',\n",
       " 'Passion Fruit',\n",
       " 'Peach',\n",
       " 'Peach 2',\n",
       " 'Peach Flat',\n",
       " 'Pear',\n",
       " 'Pear Abate',\n",
       " 'Pear Forelle',\n",
       " 'Pear Kaiser',\n",
       " 'Pear Monster',\n",
       " 'Pear Red',\n",
       " 'Pear Williams',\n",
       " 'Pepino',\n",
       " 'Pepper Green',\n",
       " 'Pepper Red',\n",
       " 'Pepper Yellow',\n",
       " 'Physalis',\n",
       " 'Physalis with Husk',\n",
       " 'Pineapple',\n",
       " 'Pineapple Mini',\n",
       " 'Pitahaya Red',\n",
       " 'Plum',\n",
       " 'Plum 2',\n",
       " 'Plum 3',\n",
       " 'Pomegranate',\n",
       " 'Pomelo Sweetie',\n",
       " 'Potato Red',\n",
       " 'Potato Red Washed',\n",
       " 'Potato Sweet',\n",
       " 'Potato White',\n",
       " 'Quince',\n",
       " 'Rambutan',\n",
       " 'Raspberry',\n",
       " 'Redcurrant',\n",
       " 'Salak',\n",
       " 'Strawberry',\n",
       " 'Strawberry Wedge',\n",
       " 'Tamarillo',\n",
       " 'Tangelo',\n",
       " 'Tomato 1',\n",
       " 'Tomato 2',\n",
       " 'Tomato 3',\n",
       " 'Tomato 4',\n",
       " 'Tomato Cherry Red',\n",
       " 'Tomato Maroon',\n",
       " 'Tomato Yellow',\n",
       " 'Walnut']"
      ]
     },
     "execution_count": 2,
     "metadata": {},
     "output_type": "execute_result"
    }
   ],
   "source": [
    "# 获取 数据目录\n",
    "# 数据集用 https://www.kaggle.com/moltean/fruits/data \n",
    "data_root_orig = \"/root/quan/fruits-360/Training/\"\n",
    "data_root = pathlib.Path(data_root_orig)\n",
    "label_name = sorted(item.name for item in data_root.glob('*/')\n",
    "                    if item.is_dir())\n",
    "# label 名称 \n",
    "label_name"
   ]
  },
  {
   "cell_type": "code",
   "execution_count": 3,
   "metadata": {},
   "outputs": [],
   "source": [
    "\n",
    "# the tfrecord file path, you need to create the folder yourself\n",
    "# 生成tf record 目录\n",
    "recordPath = \"./tfrecord/\"\n",
    "if not os.path.exists(recordPath):\n",
    "    os.makedirs(recordPath)\n",
    "\n",
    "# the number of classes of images\n",
    "\n",
    "# 组装 label名称和标签名称 例如 {“name”：1}\n",
    "values = [i for i in list(range(len(label_name)))]\n",
    "classes = dict(zip(label_name, values))\n"
   ]
  },
  {
   "cell_type": "code",
   "execution_count": 4,
   "metadata": {},
   "outputs": [],
   "source": [
    "# 创建数据格式\n",
    "def _bytes_feature(value):\n",
    "  \"\"\"Returns a bytes_list from a string / byte.\"\"\"\n",
    "  if isinstance(value, type(tf.constant(0))):\n",
    "    value = value.numpy() # BytesList won't unpack a string from an EagerTensor.\n",
    "  return tf.train.Feature(bytes_list=tf.train.BytesList(value=[value]))\n",
    "\n",
    "def _float_feature(value):\n",
    "  \"\"\"Returns a float_list from a float / double.\"\"\"\n",
    "  return tf.train.Feature(float_list=tf.train.FloatList(value=[value]))\n",
    "\n",
    "def _int64_feature(value):\n",
    "  \"\"\"Returns an int64_list from a bool / enum / int / uint.\"\"\"\n",
    "  return tf.train.Feature(int64_list=tf.train.Int64List(value=[value]))\n",
    "def image_example(image_string, label_name):\n",
    "      image_shape = tf.image.decode_jpeg(image_string).shape\n",
    "\n",
    "      feature = {\n",
    "          'label': _int64_feature(label_name),\n",
    "\n",
    "          'image_raw': _bytes_feature(image_string),\n",
    "      }\n",
    "      return tf.train.Example(features=tf.train.Features(feature=feature))\n",
    "    "
   ]
  },
  {
   "cell_type": "code",
   "execution_count": 5,
   "metadata": {
    "scrolled": true
   },
   "outputs": [],
   "source": [
    "#写入文件 \n",
    "for name, label in classes.items():\n",
    "    class_path = os.path.join(data_root_orig, name)\n",
    "    tf_file_name = \"train.tfrecords-%.3d\" % label\n",
    "    with tf.io.TFRecordWriter(tf_file_name) as writer:\n",
    "        for img_name in os.listdir(class_path):\n",
    "                img_path = os.path.join(class_path, img_name)\n",
    "                img = open(img_path, \"rb\").read()\n",
    "                example = image_example(img, label)\n",
    "                writer.write(example.SerializeToString())\n"
   ]
  },
  {
   "cell_type": "code",
   "execution_count": 6,
   "metadata": {},
   "outputs": [],
   "source": [
    "# 文件类别\n",
    "image_feature_description = {\n",
    "\n",
    "    'label': tf.io.FixedLenFeature([], tf.int64),\n",
    "    'image_raw': tf.io.FixedLenFeature([], tf.string),\n",
    "}\n",
    "# 提供组装 数据方法\n",
    "def _parse_image_function(example_proto):\n",
    "  # Parse the input tf.Example proto using the dictionary above.\n",
    "  return tf.io.parse_single_example(example_proto, image_feature_description)"
   ]
  },
  {
   "cell_type": "code",
   "execution_count": 297,
   "metadata": {
    "scrolled": true
   },
   "outputs": [
    {
     "name": "stdout",
     "output_type": "stream",
     "text": [
      "/root/quan/fruits-360/tfrecord/tfrecord\n",
      "['train.tfrecords-103', 'train.tfrecords-003', 'train.tfrecords-076', 'train.tfrecords-004', 'train.tfrecords-070', 'train.tfrecords-008', 'train.tfrecords-030', 'train.tfrecords-026', 'train.tfrecords-052', 'train.tfrecords-048', 'train.tfrecords-011', 'train.tfrecords-083', 'train.tfrecords-014', 'train.tfrecords-027', 'train.tfrecords-016', 'train.tfrecords-021', 'train.tfrecords-101', 'train.tfrecords-079', 'train.tfrecords-098', 'train.tfrecords-092', 'train.tfrecords-000', 'train.tfrecords-117', 'train.tfrecords-067', 'train.tfrecords-009', 'train.tfrecords-074', 'train.tfrecords-080', 'train.tfrecords-110', 'train.tfrecords-033', 'train.tfrecords-072', 'train.tfrecords-041', 'train.tfrecords-049', 'train.tfrecords-005', 'train.tfrecords-024', 'train.tfrecords-115', 'train.tfrecords-081', 'train.tfrecords-002', 'train.tfrecords-032', 'train.tfrecords-051', 'train.tfrecords-111', 'train.tfrecords-062', 'train.tfrecords-088', 'train.tfrecords-071', 'train.tfrecords-015', 'train.tfrecords-010', 'train.tfrecords-066', 'train.tfrecords-038', 'train.tfrecords-050', 'train.tfrecords-096', 'train.tfrecords-022', 'train.tfrecords-039', 'train.tfrecords-099', 'train.tfrecords-018', 'train.tfrecords-037', 'train.tfrecords-019', 'train.tfrecords-028', 'train.tfrecords-089', 'train.tfrecords-105', 'train.tfrecords-020', 'train.tfrecords-040', 'train.tfrecords-119', 'train.tfrecords-102', 'train.tfrecords-108', 'train.tfrecords-114', 'train.tfrecords-063', 'train.tfrecords-112', 'train.tfrecords-053', 'train.tfrecords-013', 'train.tfrecords-061', 'train.tfrecords-109', 'train.tfrecords-059', 'train.tfrecords-044', 'train.tfrecords-084', 'train.tfrecords-118', 'train.tfrecords-078', 'train.tfrecords-087', 'train.tfrecords-094', 'train.tfrecords-113', 'train.tfrecords-073', 'train.tfrecords-007', 'train.tfrecords-035', 'train.tfrecords-043', 'train.tfrecords-036', 'train.tfrecords-058', 'train.tfrecords-100', 'train.tfrecords-042', 'train.tfrecords-093', 'train.tfrecords-006', 'train.tfrecords-045', 'train.tfrecords-086', 'train.tfrecords-034', 'train.tfrecords-107', 'train.tfrecords-025', 'train.tfrecords-023', 'train.tfrecords-057', 'train.tfrecords-085', 'train.tfrecords-082', 'train.tfrecords-047', 'train.tfrecords-095', 'train.tfrecords-116', 'train.tfrecords-055', 'train.tfrecords-054', 'train.tfrecords-012', 'train.tfrecords-075', 'train.tfrecords-031', 'train.tfrecords-064', 'train.tfrecords-056', 'train.tfrecords-069', 'train.tfrecords-091', 'train.tfrecords-060', 'train.tfrecords-090', 'train.tfrecords-046', 'train.tfrecords-001', 'train.tfrecords-077', 'train.tfrecords-017', 'train.tfrecords-065', 'train.tfrecords-097', 'train.tfrecords-106', 'train.tfrecords-104', 'train.tfrecords-029', 'train.tfrecords-068']\n"
     ]
    },
    {
     "data": {
      "text/plain": [
       "<TFRecordDatasetV2 shapes: (), types: tf.string>"
      ]
     },
     "execution_count": 297,
     "metadata": {},
     "output_type": "execute_result"
    }
   ],
   "source": [
    "# 加载tfrecord 文件 \n",
    "os.chdir(\"/root/quan/fruits-360/tfrecord/tfrecord/\")\n",
    "print(os.getcwd())\n",
    "name_list = [k for _, _ , k in os.walk(\".\")]\n",
    "print(name_list[0])\n",
    "dataset = tf.data.TFRecordDataset(filenames = [name_list[0]])\n",
    "dataset"
   ]
  },
  {
   "cell_type": "code",
   "execution_count": 312,
   "metadata": {},
   "outputs": [],
   "source": [
    "parsed_image_dataset = dataset.map(_parse_image_function)\n",
    "# for image_feature in parsed_image_dataset:\n",
    "#     #print(image_feature)\n",
    "#     img_raw = image_feature['label'].numpy()\n",
    "#     print(img_raw)\n"
   ]
  },
  {
   "cell_type": "code",
   "execution_count": 316,
   "metadata": {},
   "outputs": [
    {
     "data": {
      "text/plain": [
       "<tensorflow.python.data.ops.dataset_ops._NumpyIterator at 0x7fe59a684358>"
      ]
     },
     "execution_count": 316,
     "metadata": {},
     "output_type": "execute_result"
    }
   ],
   "source": [
    "datas =  parsed_image_dataset.shuffle(buffer_size=10).batch(50)\n"
   ]
  }
 ],
 "metadata": {
  "kernelspec": {
   "display_name": "Python 3",
   "language": "python",
   "name": "python3"
  },
  "language_info": {
   "codemirror_mode": {
    "name": "ipython",
    "version": 3
   },
   "file_extension": ".py",
   "mimetype": "text/x-python",
   "name": "python",
   "nbconvert_exporter": "python",
   "pygments_lexer": "ipython3",
   "version": "3.6.9"
  }
 },
 "nbformat": 4,
 "nbformat_minor": 4
}
